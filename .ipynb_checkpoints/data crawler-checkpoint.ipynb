{
 "cells": [
  {
   "cell_type": "code",
   "execution_count": 62,
   "id": "1afd4289",
   "metadata": {},
   "outputs": [],
   "source": [
    "import numpy as np\n",
    "import pandas as pd\n",
    "%matplotlib inline\n",
    "\n",
    "import datetime\n",
    "\n",
    "import requests\n",
    "import json"
   ]
  },
  {
   "cell_type": "markdown",
   "id": "97cca701",
   "metadata": {},
   "source": [
    "# Data Crawling"
   ]
  },
  {
   "cell_type": "code",
   "execution_count": 63,
   "id": "278dd628",
   "metadata": {},
   "outputs": [],
   "source": [
    "def request_data(stnCode, dateFrom, dateTo):\n",
    "    url = 'http://apis.data.go.kr/1360000/AsosDalyInfoService/getWthrDataList'\n",
    "    service_key = 'QbHyQHFFSGsv2jCWarvHvX07/7vOUd7bU4sUpzk01IIS5UuH1VSVfDBxCZfiYUTqR6XuQiJ0dee/cTEg3cMQqA=='\n",
    "    \n",
    "    params = {\n",
    "            'serviceKey' : service_key,\n",
    "            'pageNo' : '1',\n",
    "            'numOfRows' : '999',\n",
    "            'dataType' : 'JSON',\n",
    "            'dataCd' : 'ASOS',\n",
    "            'dateCd' : 'DAY',\n",
    "            'startDt' : dateFrom.strftime('%Y%m%d'),\n",
    "            'endDt' : dateTo.strftime('%Y%m%d'),\n",
    "            'stnIds' : stnCode\n",
    "    }\n",
    "    return requests.get(url, params=params)"
   ]
  },
  {
   "cell_type": "code",
   "execution_count": 67,
   "id": "299cccb1",
   "metadata": {},
   "outputs": [],
   "source": [
    "def get_data(stnCode, num):\n",
    "    MAX_REQUEST_SIZE = 999\n",
    "    \n",
    "    ret = pd.DataFrame()\n",
    "    rest = num\n",
    "    cur = 0\n",
    "    while rest > 0:\n",
    "        now = datetime.datetime.now()\n",
    "        latest = now - datetime.timedelta(days = 1, hours = 10) # 전일 데이터를 당일 10:00부터 확인 가능\n",
    "        dateFrom = latest - datetime.timedelta(days = rest - 1)\n",
    "        dateTo   = latest - datetime.timedelta(days = max(rest - MAX_REQUEST_SIZE, 0))\n",
    "        \n",
    "        response_json = json.loads(request_data(stnCode, dateFrom, dateTo).text)\n",
    "        \n",
    "        try:\n",
    "            newData = pd.DataFrame(response_json['response']['body']['items']['item'])\n",
    "            cur += newData.shape[0]\n",
    "            ret = ret.append(newData, ignore_index=True, sort=False)\n",
    "            print('관측소 {}의 {}부터 {}까지의 데이터 {}개를 가져왔습니다. ({}/{})'.format(\n",
    "                stnCode,\n",
    "                dateFrom.strftime('%Y-%m-%d'),\n",
    "                dateTo.strftime('%Y-%m-%d'),\n",
    "                newData.shape[0],\n",
    "                cur,\n",
    "                num\n",
    "            ))\n",
    "        except KeyError:\n",
    "            print('관측소 {}의 {}부터 {}까지의 데이터를 가져오는 데 실패했습니다...'.format(\n",
    "                stnCode,\n",
    "                dateFrom.strftime('%Y-%m-%d'),\n",
    "                dateTo.strftime('%Y-%m-%d'),\n",
    "            ))\n",
    "        \n",
    "        rest -= newData.shape[0]\n",
    "    \n",
    "    fileName = 'asos_{}_{}_{}.csv'.format(\n",
    "        stnCode,\n",
    "        dateFrom.strftime('%Y%m%d'),\n",
    "        dateTo.strftime('%Y%m%d'))\n",
    "    path = 'data/' + fileName\n",
    "    \n",
    "    ret.to_csv(path)\n",
    "    print('수집한 데이터를 {} 경로에 파일로 저장했습니다!'.format(path))"
   ]
  },
  {
   "cell_type": "markdown",
   "id": "1eb9d83f",
   "metadata": {},
   "source": [
    "# Main"
   ]
  },
  {
   "cell_type": "code",
   "execution_count": 68,
   "id": "a90b5571",
   "metadata": {},
   "outputs": [
    {
     "name": "stdout",
     "output_type": "stream",
     "text": [
      "데이터 크롤링을 시작합니다...\n",
      "관측소 253의 2018-04-24부터 2021-01-16까지의 데이터 999개를 가져왔습니다. (999/1500)\n",
      "관측소 253의 2021-01-17부터 2022-06-01까지의 데이터 501개를 가져왔습니다. (1500/1500)\n",
      "수집한 데이터를 data/asos_253_20210117_20220601.csv 경로에 파일로 저장했습니다!\n"
     ]
    }
   ],
   "source": [
    "# 지점코드 불러오기 loading station codes\n",
    "codes = []\n",
    "with open('지점코드.csv', encoding='utf-8') as file:\n",
    "    for line in file.readlines():\n",
    "        codes.append(line.strip().split(','))\n",
    "        \n",
    "print('데이터 크롤링을 시작합니다...')\n",
    "# for code, _, _ in codes:\n",
    "#     get_data(code, 500)\n",
    "get_data(253, 1500)"
   ]
  },
  {
   "cell_type": "code",
   "execution_count": null,
   "id": "9fc19d23",
   "metadata": {},
   "outputs": [],
   "source": []
  }
 ],
 "metadata": {
  "kernelspec": {
   "display_name": "Python 3",
   "language": "python",
   "name": "python3"
  },
  "language_info": {
   "codemirror_mode": {
    "name": "ipython",
    "version": 3
   },
   "file_extension": ".py",
   "mimetype": "text/x-python",
   "name": "python",
   "nbconvert_exporter": "python",
   "pygments_lexer": "ipython3",
   "version": "3.8.8"
  }
 },
 "nbformat": 4,
 "nbformat_minor": 5
}
