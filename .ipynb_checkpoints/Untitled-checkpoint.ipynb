{
 "cells": [
  {
   "cell_type": "code",
   "execution_count": 639,
   "id": "66190b29",
   "metadata": {},
   "outputs": [],
   "source": [
    "import numpy as np\n",
    "import pandas as pd\n",
    "import matplotlib.pyplot as plt\n",
    "import seaborn as sns\n",
    "\n",
    "pd.set_option(\"max_row\", None) # 행 수 제한 해제\n",
    "pd.set_option(\"max_column\", None) # 열 수 제한 해제\n",
    "%matplotlib inline"
   ]
  },
  {
   "cell_type": "markdown",
   "id": "827b9f0d",
   "metadata": {},
   "source": [
    "# 0. 데이터 불러오기"
   ]
  },
  {
   "cell_type": "code",
   "execution_count": 640,
   "id": "896b4df8",
   "metadata": {},
   "outputs": [
    {
     "data": {
      "text/plain": [
       "(3652, 63)"
      ]
     },
     "execution_count": 640,
     "metadata": {},
     "output_type": "execute_result"
    }
   ],
   "source": [
    "data = pd.read_csv('data/asos_253_20120603_20220602.csv')\n",
    "\n",
    "data.shape"
   ]
  },
  {
   "cell_type": "markdown",
   "id": "4529df12",
   "metadata": {},
   "source": [
    "10년 치의 기록에 해당하는 3652개의 데이터가 있으며, 63개의 속성을 가지는 것으로 확인되었다.\n",
    "\n",
    "즉, 이 데이터의 차원 수는 현재 63차원이다."
   ]
  },
  {
   "cell_type": "markdown",
   "id": "5581b0b1",
   "metadata": {},
   "source": [
    "# 1. 전처리"
   ]
  },
  {
   "cell_type": "markdown",
   "id": "33398a3d",
   "metadata": {},
   "source": [
    "## 1.1. 라벨 수치화\n",
    " 우리의 목표는 주어진 기상 데이터에 대해 그 기상 현상이 일어난 연중 날짜를 추측하는 것이다.\n",
    " \n",
    " 시간은 연속적인 개념이므로, 우선 라벨로 사용할 `tm` 컬럼을 수치화해야 한다.\n",
    " \n",
    " 1년 중 몇 번째 날인지로 쉽게 나타낼 수 있다."
   ]
  },
  {
   "cell_type": "code",
   "execution_count": 641,
   "id": "fbe0b769",
   "metadata": {},
   "outputs": [
    {
     "data": {
      "text/html": [
       "<div>\n",
       "<style scoped>\n",
       "    .dataframe tbody tr th:only-of-type {\n",
       "        vertical-align: middle;\n",
       "    }\n",
       "\n",
       "    .dataframe tbody tr th {\n",
       "        vertical-align: top;\n",
       "    }\n",
       "\n",
       "    .dataframe thead th {\n",
       "        text-align: right;\n",
       "    }\n",
       "</style>\n",
       "<table border=\"1\" class=\"dataframe\">\n",
       "  <thead>\n",
       "    <tr style=\"text-align: right;\">\n",
       "      <th></th>\n",
       "      <th>Unnamed: 0</th>\n",
       "      <th>stnId</th>\n",
       "      <th>stnNm</th>\n",
       "      <th>avgTa</th>\n",
       "      <th>minTa</th>\n",
       "      <th>minTaHrmt</th>\n",
       "      <th>maxTa</th>\n",
       "      <th>maxTaHrmt</th>\n",
       "      <th>mi10MaxRn</th>\n",
       "      <th>mi10MaxRnHrmt</th>\n",
       "      <th>hr1MaxRn</th>\n",
       "      <th>hr1MaxRnHrmt</th>\n",
       "      <th>sumRnDur</th>\n",
       "      <th>sumRn</th>\n",
       "      <th>maxInsWs</th>\n",
       "      <th>maxInsWsWd</th>\n",
       "      <th>maxInsWsHrmt</th>\n",
       "      <th>maxWs</th>\n",
       "      <th>maxWsWd</th>\n",
       "      <th>maxWsHrmt</th>\n",
       "      <th>avgWs</th>\n",
       "      <th>hr24SumRws</th>\n",
       "      <th>maxWd</th>\n",
       "      <th>avgTd</th>\n",
       "      <th>minRhm</th>\n",
       "      <th>minRhmHrmt</th>\n",
       "      <th>avgRhm</th>\n",
       "      <th>avgPv</th>\n",
       "      <th>avgPa</th>\n",
       "      <th>maxPs</th>\n",
       "      <th>maxPsHrmt</th>\n",
       "      <th>minPs</th>\n",
       "      <th>minPsHrmt</th>\n",
       "      <th>avgPs</th>\n",
       "      <th>ssDur</th>\n",
       "      <th>sumSsHr</th>\n",
       "      <th>hr1MaxIcsrHrmt</th>\n",
       "      <th>hr1MaxIcsr</th>\n",
       "      <th>sumGsr</th>\n",
       "      <th>ddMefs</th>\n",
       "      <th>ddMefsHrmt</th>\n",
       "      <th>ddMes</th>\n",
       "      <th>ddMesHrmt</th>\n",
       "      <th>sumDpthFhsc</th>\n",
       "      <th>avgTca</th>\n",
       "      <th>avgLmac</th>\n",
       "      <th>avgTs</th>\n",
       "      <th>minTg</th>\n",
       "      <th>avgCm5Te</th>\n",
       "      <th>avgCm10Te</th>\n",
       "      <th>avgCm20Te</th>\n",
       "      <th>avgCm30Te</th>\n",
       "      <th>avgM05Te</th>\n",
       "      <th>avgM10Te</th>\n",
       "      <th>avgM15Te</th>\n",
       "      <th>avgM30Te</th>\n",
       "      <th>avgM50Te</th>\n",
       "      <th>sumLrgEv</th>\n",
       "      <th>sumSmlEv</th>\n",
       "      <th>n99Rn</th>\n",
       "      <th>iscs</th>\n",
       "      <th>sumFogDur</th>\n",
       "      <th>dayOfYear</th>\n",
       "    </tr>\n",
       "  </thead>\n",
       "  <tbody>\n",
       "    <tr>\n",
       "      <th>0</th>\n",
       "      <td>0</td>\n",
       "      <td>253</td>\n",
       "      <td>김해시</td>\n",
       "      <td>21.8</td>\n",
       "      <td>16.7</td>\n",
       "      <td>550</td>\n",
       "      <td>27.9</td>\n",
       "      <td>1243</td>\n",
       "      <td>NaN</td>\n",
       "      <td>NaN</td>\n",
       "      <td>NaN</td>\n",
       "      <td>NaN</td>\n",
       "      <td>NaN</td>\n",
       "      <td>NaN</td>\n",
       "      <td>7.7</td>\n",
       "      <td>140</td>\n",
       "      <td>1321</td>\n",
       "      <td>4.6</td>\n",
       "      <td>160</td>\n",
       "      <td>1330</td>\n",
       "      <td>2.0</td>\n",
       "      <td>1765</td>\n",
       "      <td>200.0</td>\n",
       "      <td>12.0</td>\n",
       "      <td>37</td>\n",
       "      <td>1017</td>\n",
       "      <td>55.4</td>\n",
       "      <td>14.1</td>\n",
       "      <td>1006.5</td>\n",
       "      <td>1015.0</td>\n",
       "      <td>758.0</td>\n",
       "      <td>1011.4</td>\n",
       "      <td>1529.0</td>\n",
       "      <td>1013.3</td>\n",
       "      <td>14.4</td>\n",
       "      <td>12.8</td>\n",
       "      <td>1200.0</td>\n",
       "      <td>3.38</td>\n",
       "      <td>27.53</td>\n",
       "      <td>NaN</td>\n",
       "      <td>NaN</td>\n",
       "      <td>NaN</td>\n",
       "      <td>NaN</td>\n",
       "      <td>NaN</td>\n",
       "      <td>NaN</td>\n",
       "      <td>NaN</td>\n",
       "      <td>27.6</td>\n",
       "      <td>8.7</td>\n",
       "      <td>21.0</td>\n",
       "      <td>19.9</td>\n",
       "      <td>19.3</td>\n",
       "      <td>18.3</td>\n",
       "      <td>NaN</td>\n",
       "      <td>NaN</td>\n",
       "      <td>NaN</td>\n",
       "      <td>NaN</td>\n",
       "      <td>NaN</td>\n",
       "      <td>NaN</td>\n",
       "      <td>NaN</td>\n",
       "      <td>NaN</td>\n",
       "      <td>NaN</td>\n",
       "      <td>NaN</td>\n",
       "      <td>155</td>\n",
       "    </tr>\n",
       "    <tr>\n",
       "      <th>1</th>\n",
       "      <td>1</td>\n",
       "      <td>253</td>\n",
       "      <td>김해시</td>\n",
       "      <td>22.1</td>\n",
       "      <td>16.7</td>\n",
       "      <td>449</td>\n",
       "      <td>27.8</td>\n",
       "      <td>1325</td>\n",
       "      <td>NaN</td>\n",
       "      <td>NaN</td>\n",
       "      <td>NaN</td>\n",
       "      <td>NaN</td>\n",
       "      <td>NaN</td>\n",
       "      <td>NaN</td>\n",
       "      <td>7.6</td>\n",
       "      <td>160</td>\n",
       "      <td>1502</td>\n",
       "      <td>5.0</td>\n",
       "      <td>160</td>\n",
       "      <td>1454</td>\n",
       "      <td>1.9</td>\n",
       "      <td>1612</td>\n",
       "      <td>160.0</td>\n",
       "      <td>14.6</td>\n",
       "      <td>47</td>\n",
       "      <td>900</td>\n",
       "      <td>63.6</td>\n",
       "      <td>16.9</td>\n",
       "      <td>1005.5</td>\n",
       "      <td>1014.3</td>\n",
       "      <td>843.0</td>\n",
       "      <td>1010.4</td>\n",
       "      <td>1739.0</td>\n",
       "      <td>1012.3</td>\n",
       "      <td>14.4</td>\n",
       "      <td>4.7</td>\n",
       "      <td>1300.0</td>\n",
       "      <td>2.66</td>\n",
       "      <td>18.11</td>\n",
       "      <td>NaN</td>\n",
       "      <td>NaN</td>\n",
       "      <td>NaN</td>\n",
       "      <td>NaN</td>\n",
       "      <td>NaN</td>\n",
       "      <td>NaN</td>\n",
       "      <td>NaN</td>\n",
       "      <td>23.1</td>\n",
       "      <td>8.7</td>\n",
       "      <td>20.6</td>\n",
       "      <td>19.6</td>\n",
       "      <td>19.4</td>\n",
       "      <td>18.6</td>\n",
       "      <td>NaN</td>\n",
       "      <td>NaN</td>\n",
       "      <td>NaN</td>\n",
       "      <td>NaN</td>\n",
       "      <td>NaN</td>\n",
       "      <td>NaN</td>\n",
       "      <td>NaN</td>\n",
       "      <td>NaN</td>\n",
       "      <td>NaN</td>\n",
       "      <td>NaN</td>\n",
       "      <td>156</td>\n",
       "    </tr>\n",
       "    <tr>\n",
       "      <th>2</th>\n",
       "      <td>2</td>\n",
       "      <td>253</td>\n",
       "      <td>김해시</td>\n",
       "      <td>23.9</td>\n",
       "      <td>20.5</td>\n",
       "      <td>431</td>\n",
       "      <td>30.3</td>\n",
       "      <td>1226</td>\n",
       "      <td>NaN</td>\n",
       "      <td>NaN</td>\n",
       "      <td>NaN</td>\n",
       "      <td>NaN</td>\n",
       "      <td>NaN</td>\n",
       "      <td>NaN</td>\n",
       "      <td>8.3</td>\n",
       "      <td>160</td>\n",
       "      <td>1259</td>\n",
       "      <td>6.5</td>\n",
       "      <td>160</td>\n",
       "      <td>1305</td>\n",
       "      <td>2.1</td>\n",
       "      <td>1855</td>\n",
       "      <td>160.0</td>\n",
       "      <td>15.5</td>\n",
       "      <td>36</td>\n",
       "      <td>1228</td>\n",
       "      <td>61.5</td>\n",
       "      <td>17.7</td>\n",
       "      <td>1001.0</td>\n",
       "      <td>1011.3</td>\n",
       "      <td>11.0</td>\n",
       "      <td>1005.4</td>\n",
       "      <td>2358.0</td>\n",
       "      <td>1007.8</td>\n",
       "      <td>14.4</td>\n",
       "      <td>10.8</td>\n",
       "      <td>1100.0</td>\n",
       "      <td>3.26</td>\n",
       "      <td>24.03</td>\n",
       "      <td>NaN</td>\n",
       "      <td>NaN</td>\n",
       "      <td>NaN</td>\n",
       "      <td>NaN</td>\n",
       "      <td>NaN</td>\n",
       "      <td>NaN</td>\n",
       "      <td>NaN</td>\n",
       "      <td>27.2</td>\n",
       "      <td>13.3</td>\n",
       "      <td>21.9</td>\n",
       "      <td>20.8</td>\n",
       "      <td>20.1</td>\n",
       "      <td>19.0</td>\n",
       "      <td>NaN</td>\n",
       "      <td>NaN</td>\n",
       "      <td>NaN</td>\n",
       "      <td>NaN</td>\n",
       "      <td>NaN</td>\n",
       "      <td>NaN</td>\n",
       "      <td>NaN</td>\n",
       "      <td>NaN</td>\n",
       "      <td>NaN</td>\n",
       "      <td>NaN</td>\n",
       "      <td>157</td>\n",
       "    </tr>\n",
       "  </tbody>\n",
       "</table>\n",
       "</div>"
      ],
      "text/plain": [
       "   Unnamed: 0  stnId stnNm  avgTa  minTa  minTaHrmt  maxTa  maxTaHrmt  \\\n",
       "0           0    253   김해시   21.8   16.7        550   27.9       1243   \n",
       "1           1    253   김해시   22.1   16.7        449   27.8       1325   \n",
       "2           2    253   김해시   23.9   20.5        431   30.3       1226   \n",
       "\n",
       "   mi10MaxRn  mi10MaxRnHrmt  hr1MaxRn  hr1MaxRnHrmt  sumRnDur  sumRn  \\\n",
       "0        NaN            NaN       NaN           NaN       NaN    NaN   \n",
       "1        NaN            NaN       NaN           NaN       NaN    NaN   \n",
       "2        NaN            NaN       NaN           NaN       NaN    NaN   \n",
       "\n",
       "   maxInsWs  maxInsWsWd  maxInsWsHrmt  maxWs  maxWsWd  maxWsHrmt  avgWs  \\\n",
       "0       7.7         140          1321    4.6      160       1330    2.0   \n",
       "1       7.6         160          1502    5.0      160       1454    1.9   \n",
       "2       8.3         160          1259    6.5      160       1305    2.1   \n",
       "\n",
       "   hr24SumRws  maxWd  avgTd  minRhm  minRhmHrmt  avgRhm  avgPv   avgPa  \\\n",
       "0        1765  200.0   12.0      37        1017    55.4   14.1  1006.5   \n",
       "1        1612  160.0   14.6      47         900    63.6   16.9  1005.5   \n",
       "2        1855  160.0   15.5      36        1228    61.5   17.7  1001.0   \n",
       "\n",
       "    maxPs  maxPsHrmt   minPs  minPsHrmt   avgPs  ssDur  sumSsHr  \\\n",
       "0  1015.0      758.0  1011.4     1529.0  1013.3   14.4     12.8   \n",
       "1  1014.3      843.0  1010.4     1739.0  1012.3   14.4      4.7   \n",
       "2  1011.3       11.0  1005.4     2358.0  1007.8   14.4     10.8   \n",
       "\n",
       "   hr1MaxIcsrHrmt  hr1MaxIcsr  sumGsr  ddMefs  ddMefsHrmt  ddMes  ddMesHrmt  \\\n",
       "0          1200.0        3.38   27.53     NaN         NaN    NaN        NaN   \n",
       "1          1300.0        2.66   18.11     NaN         NaN    NaN        NaN   \n",
       "2          1100.0        3.26   24.03     NaN         NaN    NaN        NaN   \n",
       "\n",
       "   sumDpthFhsc  avgTca  avgLmac  avgTs  minTg  avgCm5Te  avgCm10Te  avgCm20Te  \\\n",
       "0          NaN     NaN      NaN   27.6    8.7      21.0       19.9       19.3   \n",
       "1          NaN     NaN      NaN   23.1    8.7      20.6       19.6       19.4   \n",
       "2          NaN     NaN      NaN   27.2   13.3      21.9       20.8       20.1   \n",
       "\n",
       "   avgCm30Te  avgM05Te  avgM10Te  avgM15Te  avgM30Te  avgM50Te  sumLrgEv  \\\n",
       "0       18.3       NaN       NaN       NaN       NaN       NaN       NaN   \n",
       "1       18.6       NaN       NaN       NaN       NaN       NaN       NaN   \n",
       "2       19.0       NaN       NaN       NaN       NaN       NaN       NaN   \n",
       "\n",
       "   sumSmlEv  n99Rn  iscs  sumFogDur  dayOfYear  \n",
       "0       NaN    NaN   NaN        NaN        155  \n",
       "1       NaN    NaN   NaN        NaN        156  \n",
       "2       NaN    NaN   NaN        NaN        157  "
      ]
     },
     "execution_count": 641,
     "metadata": {},
     "output_type": "execute_result"
    }
   ],
   "source": [
    "import datetime\n",
    "\n",
    "def convertTm(x):\n",
    "    return int(datetime.datetime.strptime(x, '%Y-%m-%d').strftime('%j'))\n",
    "\n",
    "data['dayOfYear'] = data['tm'].apply(convertTm)\n",
    "\n",
    "data.drop('tm', axis=1, inplace=True)\n",
    "\n",
    "data.head(3)"
   ]
  },
  {
   "cell_type": "markdown",
   "id": "790500ee",
   "metadata": {},
   "source": [
    "## 1.2. 결측치 보정, 불완전 속성 제거\n",
    "\n",
    " 우선 정제해야 할 데이터의 결측치 수를 확인하자."
   ]
  },
  {
   "cell_type": "code",
   "execution_count": 642,
   "id": "614a11e3",
   "metadata": {},
   "outputs": [
    {
     "data": {
      "text/plain": [
       "Unnamed: 0           0\n",
       "stnId                0\n",
       "stnNm                0\n",
       "avgTa                7\n",
       "minTa                0\n",
       "minTaHrmt            0\n",
       "maxTa                0\n",
       "maxTaHrmt            0\n",
       "mi10MaxRn         2886\n",
       "mi10MaxRnHrmt     3059\n",
       "hr1MaxRn          2884\n",
       "hr1MaxRnHrmt      3036\n",
       "sumRnDur          3650\n",
       "sumRn             2551\n",
       "maxInsWs             0\n",
       "maxInsWsWd           0\n",
       "maxInsWsHrmt         0\n",
       "maxWs                0\n",
       "maxWsWd              0\n",
       "maxWsHrmt            0\n",
       "avgWs                0\n",
       "hr24SumRws           0\n",
       "maxWd               12\n",
       "avgTd                8\n",
       "minRhm               0\n",
       "minRhmHrmt           0\n",
       "avgRhm               7\n",
       "avgPv                8\n",
       "avgPa               11\n",
       "maxPs                4\n",
       "maxPsHrmt            4\n",
       "minPs                5\n",
       "minPsHrmt            4\n",
       "avgPs               12\n",
       "ssDur                0\n",
       "sumSsHr             17\n",
       "hr1MaxIcsrHrmt       2\n",
       "hr1MaxIcsr           2\n",
       "sumGsr               5\n",
       "ddMefs            3651\n",
       "ddMefsHrmt        3651\n",
       "ddMes             3650\n",
       "ddMesHrmt         3650\n",
       "sumDpthFhsc       3651\n",
       "avgTca            2256\n",
       "avgLmac           2281\n",
       "avgTs               18\n",
       "minTg               18\n",
       "avgCm5Te            41\n",
       "avgCm10Te           39\n",
       "avgCm20Te           40\n",
       "avgCm30Te           50\n",
       "avgM05Te          3652\n",
       "avgM10Te          3652\n",
       "avgM15Te          3652\n",
       "avgM30Te          3652\n",
       "avgM50Te          3652\n",
       "sumLrgEv          1511\n",
       "sumSmlEv          1511\n",
       "n99Rn             3651\n",
       "iscs              3652\n",
       "sumFogDur         3652\n",
       "dayOfYear            0\n",
       "dtype: int64"
      ]
     },
     "execution_count": 642,
     "metadata": {},
     "output_type": "execute_result"
    }
   ],
   "source": [
    "data.isna().sum()"
   ]
  },
  {
   "cell_type": "markdown",
   "id": "73a00b02",
   "metadata": {},
   "source": [
    "결측치가 있는 컬럼은 결측치의 수가 100개 이하로 적은 컬럼과, 1000개 이상으로 많은 컬럼으로 뚜렷하게 구분된다.\n",
    "\n",
    "전처리를 진행하자."
   ]
  },
  {
   "cell_type": "markdown",
   "id": "ce2ba47b",
   "metadata": {},
   "source": [
    "### 1.2.1. 식별자 컬럼 제거\n",
    "\n",
    " 우선, 데이터를 구분하기 위한 식별자(identifier)로 사용되는 컬럼이 있다. 그러나 학습에는 사용하지 않을 것이므로 제거한다."
   ]
  },
  {
   "cell_type": "code",
   "execution_count": 643,
   "id": "ea30cb40",
   "metadata": {},
   "outputs": [],
   "source": [
    "dummyCols = ['Unnamed: 0', 'stnId', 'stnNm']\n",
    "data.drop(dummyCols, axis=1, inplace=True)"
   ]
  },
  {
   "cell_type": "markdown",
   "id": "662eb675",
   "metadata": {},
   "source": [
    "### 1.2.2. '평균' 컬럼의 결측치\n",
    "\n",
    " 어떤 값의 최솟값과 최댓값을 나타내는 컬럼이 있을 때, 그 값의 평균값은 최솟값과 최댓값의 평균과 비슷할 것이다. 그러므로 최솟값과 최댓값을 가지는 컬럼 중 평균값이 결측된 컬럼에 대해,\n",
    " \n",
    " $$ avg = \\frac{min + max}{2} $$\n",
    " \n",
    "로 추측하여 결측치를 메우자."
   ]
  },
  {
   "cell_type": "code",
   "execution_count": 644,
   "id": "a40296ff",
   "metadata": {},
   "outputs": [],
   "source": [
    "data['avgTa'].fillna(((data['minTa'] + data['maxTa']) / 2), inplace=True)\n",
    "data['avgPs'].fillna(((data['minPs'] + data['maxPs']) / 2), inplace=True)"
   ]
  },
  {
   "cell_type": "markdown",
   "id": "c95d8d12",
   "metadata": {},
   "source": [
    "### 1.2.3. 강수량과 적설량의 결측치\n",
    "\n",
    "강수량과 적설량에서 결측치가 있는 데이터는 해당 날짜에 비나 눈이 내리지 않았음을 뜻한다. 그러므로 이와 관련된 컬럼을 모두 0으로 보정한다."
   ]
  },
  {
   "cell_type": "code",
   "execution_count": 645,
   "id": "6b19635a",
   "metadata": {},
   "outputs": [],
   "source": [
    "rainSnowCols = [\n",
    "    'mi10MaxRn', 'mi10MaxRnHrmt', 'hr1MaxRn', 'hr1MaxRnHrmt', 'sumRnDur', 'sumRn',\n",
    "    'ddMefs', 'ddMefsHrmt', 'ddMes', 'ddMesHrmt', 'sumDpthFhsc'\n",
    "    \n",
    "]\n",
    "for col in rainSnowCols:\n",
    "    data[col].fillna(0, inplace=True)"
   ]
  },
  {
   "cell_type": "markdown",
   "id": "edcde944",
   "metadata": {},
   "source": [
    "### 1.2.4. 나머지 결측치\n",
    "\n",
    "결측치가 많은 나머지 컬럼은 다른 컬럼으로 보정할 수 없으므로, 해당 컬럼을 학습에서 제외한다."
   ]
  },
  {
   "cell_type": "code",
   "execution_count": 646,
   "id": "3a188104",
   "metadata": {},
   "outputs": [],
   "source": [
    "for col in data.columns:\n",
    "    if data[col].isna().sum() > 100:\n",
    "        data.drop(col, axis=1, inplace=True)"
   ]
  },
  {
   "cell_type": "markdown",
   "id": "b95421d3",
   "metadata": {},
   "source": [
    "결측치가 적은 컬럼의 경우에는 해당 결측치가 나타난 데이터를 학습에서 제외한다."
   ]
  },
  {
   "cell_type": "code",
   "execution_count": 647,
   "id": "acc257c9",
   "metadata": {},
   "outputs": [],
   "source": [
    "data.dropna(inplace=True)"
   ]
  },
  {
   "cell_type": "markdown",
   "id": "512e06ca",
   "metadata": {},
   "source": [
    "이후 결측치를 확인해보면,"
   ]
  },
  {
   "cell_type": "code",
   "execution_count": 648,
   "id": "43f2d3cc",
   "metadata": {},
   "outputs": [
    {
     "data": {
      "text/plain": [
       "0"
      ]
     },
     "execution_count": 648,
     "metadata": {},
     "output_type": "execute_result"
    }
   ],
   "source": [
    "data.isna().sum().sum()"
   ]
  },
  {
   "cell_type": "markdown",
   "id": "91c78cdf",
   "metadata": {},
   "source": [
    "위와 같이 결측치가 모두 제거된 것을 확인할 수 있다."
   ]
  },
  {
   "cell_type": "code",
   "execution_count": 649,
   "id": "a24d44f0",
   "metadata": {},
   "outputs": [
    {
     "data": {
      "text/plain": [
       "(3562, 48)"
      ]
     },
     "execution_count": 649,
     "metadata": {},
     "output_type": "execute_result"
    }
   ],
   "source": [
    "data.shape"
   ]
  },
  {
   "cell_type": "markdown",
   "id": "c25686b8",
   "metadata": {},
   "source": [
    "결측치 처리가 끝난 후 위와 같이 90개의 데이터와 15개의 컬럼이 제외되었음을 확인할 수 있다."
   ]
  },
  {
   "cell_type": "markdown",
   "id": "8a714a3b",
   "metadata": {},
   "source": [
    "## 1.2.4. Reindexing"
   ]
  },
  {
   "cell_type": "markdown",
   "id": "1e8e94d0",
   "metadata": {},
   "source": [
    "데이터를 제거하였으므로 index를 재설정한다."
   ]
  },
  {
   "cell_type": "code",
   "execution_count": 650,
   "id": "bb72a43c",
   "metadata": {},
   "outputs": [
    {
     "data": {
      "text/plain": [
       "RangeIndex(start=0, stop=3562, step=1)"
      ]
     },
     "execution_count": 650,
     "metadata": {},
     "output_type": "execute_result"
    }
   ],
   "source": [
    "data.index = pd.RangeIndex(data.shape[0])\n",
    "\n",
    "data.index"
   ]
  },
  {
   "cell_type": "markdown",
   "id": "4c0fe12e",
   "metadata": {},
   "source": [
    "## 1.3. 스케일링(scaling)"
   ]
  },
  {
   "cell_type": "markdown",
   "id": "ec033836",
   "metadata": {},
   "source": [
    "### 1.3.1. Hrmt(hhmi) 표기법\n",
    " 이 데이터에서 컬럼명이 \"Hrmt\"로 끝나는 컬럼은 '시간-분' 순서로 표시된 일중 시각을 나타낸다. 예를 들면 다음과 같다.\n",
    " * 630: 06시 30분 (오전 6시 30분)\n",
    " * 1920: 19시 20분 (오후 7시 20분)\n",
    " \n",
    "이는 인간이 읽기에는 편하지만 정시로 넘어갈 때마다 40만큼 도약이 생긴다. 이는 해당 컬럼의 학습에 부정적인 영향을 끼친다.\n",
    "\n",
    "그러므로, 도약을 없앤 표기, 즉, '당일 자정으로부터 지난 분 단위 시간'으로 교정한다."
   ]
  },
  {
   "cell_type": "code",
   "execution_count": 651,
   "id": "6ad3b3bb",
   "metadata": {},
   "outputs": [
    {
     "data": {
      "text/html": [
       "<div>\n",
       "<style scoped>\n",
       "    .dataframe tbody tr th:only-of-type {\n",
       "        vertical-align: middle;\n",
       "    }\n",
       "\n",
       "    .dataframe tbody tr th {\n",
       "        vertical-align: top;\n",
       "    }\n",
       "\n",
       "    .dataframe thead th {\n",
       "        text-align: right;\n",
       "    }\n",
       "</style>\n",
       "<table border=\"1\" class=\"dataframe\">\n",
       "  <thead>\n",
       "    <tr style=\"text-align: right;\">\n",
       "      <th></th>\n",
       "      <th>minTaHrmt</th>\n",
       "    </tr>\n",
       "  </thead>\n",
       "  <tbody>\n",
       "    <tr>\n",
       "      <th>0</th>\n",
       "      <td>550</td>\n",
       "    </tr>\n",
       "    <tr>\n",
       "      <th>1</th>\n",
       "      <td>449</td>\n",
       "    </tr>\n",
       "    <tr>\n",
       "      <th>2</th>\n",
       "      <td>431</td>\n",
       "    </tr>\n",
       "  </tbody>\n",
       "</table>\n",
       "</div>"
      ],
      "text/plain": [
       "   minTaHrmt\n",
       "0        550\n",
       "1        449\n",
       "2        431"
      ]
     },
     "execution_count": 651,
     "metadata": {},
     "output_type": "execute_result"
    }
   ],
   "source": [
    "# 교정 전\n",
    "data[['minTaHrmt']].head(3)"
   ]
  },
  {
   "cell_type": "code",
   "execution_count": 652,
   "id": "303a308f",
   "metadata": {},
   "outputs": [],
   "source": [
    "for col in data.columns:\n",
    "    if col.endswith('Hrmt'):\n",
    "        hours = data[col] // 100\n",
    "        minutes = data[col] % 100\n",
    "        \n",
    "        data[col] = hours * 60 + minutes\n",
    "        \n",
    "data.columns = data.columns.str.replace('Hrmt', 'Mnt') # 컬럼 이름 변경"
   ]
  },
  {
   "cell_type": "code",
   "execution_count": 653,
   "id": "1fc512a2",
   "metadata": {},
   "outputs": [
    {
     "data": {
      "text/html": [
       "<div>\n",
       "<style scoped>\n",
       "    .dataframe tbody tr th:only-of-type {\n",
       "        vertical-align: middle;\n",
       "    }\n",
       "\n",
       "    .dataframe tbody tr th {\n",
       "        vertical-align: top;\n",
       "    }\n",
       "\n",
       "    .dataframe thead th {\n",
       "        text-align: right;\n",
       "    }\n",
       "</style>\n",
       "<table border=\"1\" class=\"dataframe\">\n",
       "  <thead>\n",
       "    <tr style=\"text-align: right;\">\n",
       "      <th></th>\n",
       "      <th>minTaMnt</th>\n",
       "    </tr>\n",
       "  </thead>\n",
       "  <tbody>\n",
       "    <tr>\n",
       "      <th>0</th>\n",
       "      <td>350</td>\n",
       "    </tr>\n",
       "    <tr>\n",
       "      <th>1</th>\n",
       "      <td>289</td>\n",
       "    </tr>\n",
       "    <tr>\n",
       "      <th>2</th>\n",
       "      <td>271</td>\n",
       "    </tr>\n",
       "  </tbody>\n",
       "</table>\n",
       "</div>"
      ],
      "text/plain": [
       "   minTaMnt\n",
       "0       350\n",
       "1       289\n",
       "2       271"
      ]
     },
     "execution_count": 653,
     "metadata": {},
     "output_type": "execute_result"
    }
   ],
   "source": [
    "# 교정 후\n",
    "data[['minTaMnt']].head(3)"
   ]
  },
  {
   "cell_type": "markdown",
   "id": "55503d5f",
   "metadata": {},
   "source": [
    "### 1.3.2. 정규화(Normalization)\n",
    "\n",
    "학습의 정확도를 높이기 위해 정규화를 진행한다."
   ]
  },
  {
   "cell_type": "code",
   "execution_count": 654,
   "id": "a59de1ce",
   "metadata": {},
   "outputs": [
    {
     "data": {
      "text/plain": [
       "Index(['avgTa', 'minTa', 'minTaMnt', 'maxTa', 'maxTaMnt', 'mi10MaxRn',\n",
       "       'mi10MaxRnMnt', 'hr1MaxRn', 'hr1MaxRnMnt', 'sumRnDur', 'sumRn',\n",
       "       'maxInsWs', 'maxInsWsWd', 'maxInsWsMnt', 'maxWs', 'maxWsWd', 'maxWsMnt',\n",
       "       'avgWs', 'hr24SumRws', 'maxWd', 'avgTd', 'minRhm', 'minRhmMnt',\n",
       "       'avgRhm', 'avgPv', 'avgPa', 'maxPs', 'maxPsMnt', 'minPs', 'minPsMnt',\n",
       "       'avgPs', 'ssDur', 'sumSsHr', 'hr1MaxIcsrMnt', 'hr1MaxIcsr', 'sumGsr',\n",
       "       'ddMefs', 'ddMefsMnt', 'ddMes', 'ddMesMnt', 'sumDpthFhsc', 'avgTs',\n",
       "       'minTg', 'avgCm5Te', 'avgCm10Te', 'avgCm20Te', 'avgCm30Te',\n",
       "       'dayOfYear'],\n",
       "      dtype='object')"
      ]
     },
     "execution_count": 654,
     "metadata": {},
     "output_type": "execute_result"
    }
   ],
   "source": [
    "data.columns"
   ]
  },
  {
   "cell_type": "markdown",
   "id": "94e3c31e",
   "metadata": {},
   "source": [
    " 컬럼 중 범주형(categorical) 데이터와 수치형(numerical) 데이터를 분리해 수치형 데이터만 정규화하고, 다시 합친다."
   ]
  },
  {
   "cell_type": "code",
   "execution_count": 658,
   "id": "b77a15b6",
   "metadata": {
    "scrolled": false
   },
   "outputs": [
    {
     "data": {
      "text/html": [
       "<div>\n",
       "<style scoped>\n",
       "    .dataframe tbody tr th:only-of-type {\n",
       "        vertical-align: middle;\n",
       "    }\n",
       "\n",
       "    .dataframe tbody tr th {\n",
       "        vertical-align: top;\n",
       "    }\n",
       "\n",
       "    .dataframe thead th {\n",
       "        text-align: right;\n",
       "    }\n",
       "</style>\n",
       "<table border=\"1\" class=\"dataframe\">\n",
       "  <thead>\n",
       "    <tr style=\"text-align: right;\">\n",
       "      <th></th>\n",
       "      <th>avgTa</th>\n",
       "      <th>minTa</th>\n",
       "      <th>minTaMnt</th>\n",
       "      <th>maxTa</th>\n",
       "      <th>maxTaMnt</th>\n",
       "      <th>mi10MaxRn</th>\n",
       "      <th>mi10MaxRnMnt</th>\n",
       "      <th>hr1MaxRn</th>\n",
       "      <th>hr1MaxRnMnt</th>\n",
       "      <th>sumRnDur</th>\n",
       "      <th>sumRn</th>\n",
       "      <th>maxInsWs</th>\n",
       "      <th>maxInsWsWd</th>\n",
       "      <th>maxInsWsMnt</th>\n",
       "      <th>maxWs</th>\n",
       "      <th>maxWsWd</th>\n",
       "      <th>maxWsMnt</th>\n",
       "      <th>avgWs</th>\n",
       "      <th>hr24SumRws</th>\n",
       "      <th>maxWd</th>\n",
       "      <th>avgTd</th>\n",
       "      <th>minRhm</th>\n",
       "      <th>minRhmMnt</th>\n",
       "      <th>avgRhm</th>\n",
       "      <th>avgPv</th>\n",
       "      <th>avgPa</th>\n",
       "      <th>maxPs</th>\n",
       "      <th>maxPsMnt</th>\n",
       "      <th>minPs</th>\n",
       "      <th>minPsMnt</th>\n",
       "      <th>avgPs</th>\n",
       "      <th>ssDur</th>\n",
       "      <th>sumSsHr</th>\n",
       "      <th>hr1MaxIcsrMnt</th>\n",
       "      <th>hr1MaxIcsr</th>\n",
       "      <th>sumGsr</th>\n",
       "      <th>ddMefs</th>\n",
       "      <th>ddMefsMnt</th>\n",
       "      <th>ddMes</th>\n",
       "      <th>ddMesMnt</th>\n",
       "      <th>sumDpthFhsc</th>\n",
       "      <th>avgTs</th>\n",
       "      <th>minTg</th>\n",
       "      <th>avgCm5Te</th>\n",
       "      <th>avgCm10Te</th>\n",
       "      <th>avgCm20Te</th>\n",
       "      <th>avgCm30Te</th>\n",
       "      <th>dayOfYear</th>\n",
       "    </tr>\n",
       "  </thead>\n",
       "  <tbody>\n",
       "    <tr>\n",
       "      <th>3559</th>\n",
       "      <td>0.843873</td>\n",
       "      <td>0.786012</td>\n",
       "      <td>363</td>\n",
       "      <td>0.965597</td>\n",
       "      <td>783</td>\n",
       "      <td>-0.263973</td>\n",
       "      <td>0.0</td>\n",
       "      <td>-0.247265</td>\n",
       "      <td>0.0</td>\n",
       "      <td>-0.016758</td>\n",
       "      <td>-0.27588</td>\n",
       "      <td>1.029441</td>\n",
       "      <td>160</td>\n",
       "      <td>997</td>\n",
       "      <td>1.157704</td>\n",
       "      <td>160</td>\n",
       "      <td>996</td>\n",
       "      <td>0.440237</td>\n",
       "      <td>0.039976</td>\n",
       "      <td>320.0</td>\n",
       "      <td>0.129208</td>\n",
       "      <td>-1.232779</td>\n",
       "      <td>789</td>\n",
       "      <td>-1.056975</td>\n",
       "      <td>-0.176392</td>\n",
       "      <td>-1.095385</td>\n",
       "      <td>-1.161005</td>\n",
       "      <td>1415.0</td>\n",
       "      <td>-1.422371</td>\n",
       "      <td>30.0</td>\n",
       "      <td>-1.166589</td>\n",
       "      <td>1.343063</td>\n",
       "      <td>1.520792</td>\n",
       "      <td>660.0</td>\n",
       "      <td>1.609019</td>\n",
       "      <td>2.291354</td>\n",
       "      <td>-0.016758</td>\n",
       "      <td>0.0</td>\n",
       "      <td>-0.022122</td>\n",
       "      <td>0.0</td>\n",
       "      <td>-0.016758</td>\n",
       "      <td>1.212002</td>\n",
       "      <td>0.560956</td>\n",
       "      <td>1.062071</td>\n",
       "      <td>1.080783</td>\n",
       "      <td>0.993306</td>\n",
       "      <td>0.933243</td>\n",
       "      <td>151</td>\n",
       "    </tr>\n",
       "    <tr>\n",
       "      <th>3560</th>\n",
       "      <td>0.798546</td>\n",
       "      <td>0.710647</td>\n",
       "      <td>312</td>\n",
       "      <td>1.010774</td>\n",
       "      <td>705</td>\n",
       "      <td>-0.263973</td>\n",
       "      <td>0.0</td>\n",
       "      <td>-0.247265</td>\n",
       "      <td>0.0</td>\n",
       "      <td>-0.016758</td>\n",
       "      <td>-0.27588</td>\n",
       "      <td>-0.020722</td>\n",
       "      <td>180</td>\n",
       "      <td>822</td>\n",
       "      <td>-0.132617</td>\n",
       "      <td>160</td>\n",
       "      <td>967</td>\n",
       "      <td>-0.295799</td>\n",
       "      <td>-0.081307</td>\n",
       "      <td>160.0</td>\n",
       "      <td>0.325691</td>\n",
       "      <td>-1.071268</td>\n",
       "      <td>815</td>\n",
       "      <td>-0.595973</td>\n",
       "      <td>0.043159</td>\n",
       "      <td>-1.190858</td>\n",
       "      <td>-1.200704</td>\n",
       "      <td>1.0</td>\n",
       "      <td>-1.202639</td>\n",
       "      <td>1032.0</td>\n",
       "      <td>-1.259400</td>\n",
       "      <td>1.343063</td>\n",
       "      <td>1.095444</td>\n",
       "      <td>780.0</td>\n",
       "      <td>1.620402</td>\n",
       "      <td>1.975391</td>\n",
       "      <td>-0.016758</td>\n",
       "      <td>0.0</td>\n",
       "      <td>-0.022122</td>\n",
       "      <td>0.0</td>\n",
       "      <td>-0.016758</td>\n",
       "      <td>1.251977</td>\n",
       "      <td>0.589244</td>\n",
       "      <td>1.119090</td>\n",
       "      <td>1.126595</td>\n",
       "      <td>1.016873</td>\n",
       "      <td>0.957976</td>\n",
       "      <td>152</td>\n",
       "    </tr>\n",
       "    <tr>\n",
       "      <th>3561</th>\n",
       "      <td>0.753219</td>\n",
       "      <td>0.613750</td>\n",
       "      <td>344</td>\n",
       "      <td>0.807478</td>\n",
       "      <td>808</td>\n",
       "      <td>-0.263973</td>\n",
       "      <td>0.0</td>\n",
       "      <td>-0.247265</td>\n",
       "      <td>0.0</td>\n",
       "      <td>-0.016758</td>\n",
       "      <td>-0.27588</td>\n",
       "      <td>0.016784</td>\n",
       "      <td>160</td>\n",
       "      <td>894</td>\n",
       "      <td>0.236046</td>\n",
       "      <td>160</td>\n",
       "      <td>892</td>\n",
       "      <td>-0.663816</td>\n",
       "      <td>-0.133045</td>\n",
       "      <td>110.0</td>\n",
       "      <td>0.650314</td>\n",
       "      <td>0.328493</td>\n",
       "      <td>975</td>\n",
       "      <td>0.178055</td>\n",
       "      <td>0.447595</td>\n",
       "      <td>-1.177219</td>\n",
       "      <td>-1.438895</td>\n",
       "      <td>485.0</td>\n",
       "      <td>-1.073385</td>\n",
       "      <td>982.0</td>\n",
       "      <td>-1.246141</td>\n",
       "      <td>1.343063</td>\n",
       "      <td>1.545813</td>\n",
       "      <td>720.0</td>\n",
       "      <td>1.757004</td>\n",
       "      <td>2.341621</td>\n",
       "      <td>-0.016758</td>\n",
       "      <td>0.0</td>\n",
       "      <td>-0.022122</td>\n",
       "      <td>0.0</td>\n",
       "      <td>-0.016758</td>\n",
       "      <td>1.271965</td>\n",
       "      <td>0.466662</td>\n",
       "      <td>1.130494</td>\n",
       "      <td>1.149501</td>\n",
       "      <td>1.040440</td>\n",
       "      <td>0.982709</td>\n",
       "      <td>153</td>\n",
       "    </tr>\n",
       "  </tbody>\n",
       "</table>\n",
       "</div>"
      ],
      "text/plain": [
       "         avgTa     minTa  minTaMnt     maxTa  maxTaMnt  mi10MaxRn  \\\n",
       "3559  0.843873  0.786012       363  0.965597       783  -0.263973   \n",
       "3560  0.798546  0.710647       312  1.010774       705  -0.263973   \n",
       "3561  0.753219  0.613750       344  0.807478       808  -0.263973   \n",
       "\n",
       "      mi10MaxRnMnt  hr1MaxRn  hr1MaxRnMnt  sumRnDur    sumRn  maxInsWs  \\\n",
       "3559           0.0 -0.247265          0.0 -0.016758 -0.27588  1.029441   \n",
       "3560           0.0 -0.247265          0.0 -0.016758 -0.27588 -0.020722   \n",
       "3561           0.0 -0.247265          0.0 -0.016758 -0.27588  0.016784   \n",
       "\n",
       "      maxInsWsWd  maxInsWsMnt     maxWs  maxWsWd  maxWsMnt     avgWs  \\\n",
       "3559         160          997  1.157704      160       996  0.440237   \n",
       "3560         180          822 -0.132617      160       967 -0.295799   \n",
       "3561         160          894  0.236046      160       892 -0.663816   \n",
       "\n",
       "      hr24SumRws  maxWd     avgTd    minRhm  minRhmMnt    avgRhm     avgPv  \\\n",
       "3559    0.039976  320.0  0.129208 -1.232779        789 -1.056975 -0.176392   \n",
       "3560   -0.081307  160.0  0.325691 -1.071268        815 -0.595973  0.043159   \n",
       "3561   -0.133045  110.0  0.650314  0.328493        975  0.178055  0.447595   \n",
       "\n",
       "         avgPa     maxPs  maxPsMnt     minPs  minPsMnt     avgPs     ssDur  \\\n",
       "3559 -1.095385 -1.161005    1415.0 -1.422371      30.0 -1.166589  1.343063   \n",
       "3560 -1.190858 -1.200704       1.0 -1.202639    1032.0 -1.259400  1.343063   \n",
       "3561 -1.177219 -1.438895     485.0 -1.073385     982.0 -1.246141  1.343063   \n",
       "\n",
       "       sumSsHr  hr1MaxIcsrMnt  hr1MaxIcsr    sumGsr    ddMefs  ddMefsMnt  \\\n",
       "3559  1.520792          660.0    1.609019  2.291354 -0.016758        0.0   \n",
       "3560  1.095444          780.0    1.620402  1.975391 -0.016758        0.0   \n",
       "3561  1.545813          720.0    1.757004  2.341621 -0.016758        0.0   \n",
       "\n",
       "         ddMes  ddMesMnt  sumDpthFhsc     avgTs     minTg  avgCm5Te  \\\n",
       "3559 -0.022122       0.0    -0.016758  1.212002  0.560956  1.062071   \n",
       "3560 -0.022122       0.0    -0.016758  1.251977  0.589244  1.119090   \n",
       "3561 -0.022122       0.0    -0.016758  1.271965  0.466662  1.130494   \n",
       "\n",
       "      avgCm10Te  avgCm20Te  avgCm30Te  dayOfYear  \n",
       "3559   1.080783   0.993306   0.933243        151  \n",
       "3560   1.126595   1.016873   0.957976        152  \n",
       "3561   1.149501   1.040440   0.982709        153  "
      ]
     },
     "execution_count": 658,
     "metadata": {},
     "output_type": "execute_result"
    }
   ],
   "source": [
    "from sklearn.preprocessing import StandardScaler\n",
    "# categorical columns\n",
    "catColNames = [\n",
    "    'minTaMnt',\n",
    "    'maxTaMnt',\n",
    "    'mi10MaxRnMnt',\n",
    "    'hr1MaxRnMnt',\n",
    "    'maxInsWsWd',\n",
    "    'maxInsWsMnt',\n",
    "    'maxWsWd',\n",
    "    'maxWsMnt',\n",
    "    'maxWd',\n",
    "    'minRhmMnt',\n",
    "    'maxPsMnt',\n",
    "    'minPsMnt',\n",
    "    'hr1MaxIcsrMnt',\n",
    "    'ddMefsMnt',\n",
    "    'ddMesMnt',\n",
    "    'dayOfYear'\n",
    "]\n",
    "\n",
    "numData = data.drop(catColNames, axis=1)\n",
    "catData = data[catColNames]\n",
    "\n",
    "scaler = StandardScaler()\n",
    "scaler.fit(numData)\n",
    "\n",
    "numDataScaled = pd.DataFrame(data=scaler.transform(numData), columns=numData.columns)\n",
    "\n",
    "dataScaled = pd.concat([numDataScaled, catData], axis=1)\n",
    "dataScaled = dataScaled[data.columns.tolist()] # 컬럼 순서 정렬\n",
    "\n",
    "dataScaled.tail(3)"
   ]
  },
  {
   "cell_type": "raw",
   "id": "ac52d2fc",
   "metadata": {},
   "source": [
    "# 2. 학습"
   ]
  },
  {
   "cell_type": "markdown",
   "id": "2c10978e",
   "metadata": {},
   "source": [
    "## 2.1. 훈련 데이터-시험 데이터 분리"
   ]
  },
  {
   "cell_type": "code",
   "execution_count": 656,
   "id": "a9b4ed87",
   "metadata": {},
   "outputs": [],
   "source": [
    "from sklearn.model_selection import train_test_split\n",
    "\n",
    "X = dataScaled.drop('dayOfYear', axis=1)\n",
    "y = dataScaled['dayOfYear']\n",
    "\n",
    "X_train, X_test, y_train, y_test = train_test_split(X, y, test_size=0.2, random_state=59)"
   ]
  },
  {
   "cell_type": "markdown",
   "id": "2b464b2c",
   "metadata": {},
   "source": [
    "## 2.2. 모델: RandomForestRegressor"
   ]
  },
  {
   "cell_type": "code",
   "execution_count": 659,
   "id": "57df056b",
   "metadata": {},
   "outputs": [
    {
     "data": {
      "text/plain": [
       "RandomForestRegressor(random_state=59)"
      ]
     },
     "execution_count": 659,
     "metadata": {},
     "output_type": "execute_result"
    }
   ],
   "source": [
    "from sklearn.ensemble import RandomForestRegressor\n",
    "\n",
    "model = RandomForestRegressor(random_state=59)\n",
    "model.fit(X_train, y_train)"
   ]
  },
  {
   "cell_type": "markdown",
   "id": "c20193c3",
   "metadata": {},
   "source": [
    "## 3. 예측"
   ]
  },
  {
   "cell_type": "code",
   "execution_count": 660,
   "id": "9c33ca48",
   "metadata": {},
   "outputs": [],
   "source": [
    "pred = model.predict(X_test)"
   ]
  },
  {
   "cell_type": "code",
   "execution_count": 667,
   "id": "18c77a84",
   "metadata": {},
   "outputs": [
    {
     "name": "stdout",
     "output_type": "stream",
     "text": [
      "MAE: 9.300589060308557\n",
      "MSE: 1387.8636381486676\n",
      "RMSE: 37.25404190351253\n"
     ]
    },
    {
     "name": "stderr",
     "output_type": "stream",
     "text": [
      "C:\\Users\\thesm\\anaconda3\\lib\\site-packages\\seaborn\\_decorators.py:36: FutureWarning: Pass the following variables as keyword args: x, y. From version 0.12, the only valid positional argument will be `data`, and passing other arguments without an explicit keyword will result in an error or misinterpretation.\n",
      "  warnings.warn(\n"
     ]
    },
    {
     "data": {
      "image/png": "[encoded data removed]",
      "text/plain": [
       "<Figure size 432x288 with 1 Axes>"
      ]
     },
     "metadata": {
      "needs_background": "light"
     },
     "output_type": "display_data"
    }
   ],
   "source": [
    "from sklearn import metrics\n",
    "\n",
    "print('MAE:', metrics.mean_absolute_error(y_test, pred))\n",
    "print('MSE:', metrics.mean_squared_error(y_test, pred))\n",
    "print('RMSE:', np.sqrt(metrics.mean_squared_error(y_test, pred)))\n",
    "\n",
    "sns.regplot(y_test, pred, data=dataScaled);"
   ]
  },
  {
   "cell_type": "code",
   "execution_count": 668,
   "id": "3bb78958",
   "metadata": {},
   "outputs": [
    {
     "data": {
      "text/html": [
       "<div>\n",
       "<style scoped>\n",
       "    .dataframe tbody tr th:only-of-type {\n",
       "        vertical-align: middle;\n",
       "    }\n",
       "\n",
       "    .dataframe tbody tr th {\n",
       "        vertical-align: top;\n",
       "    }\n",
       "\n",
       "    .dataframe thead th {\n",
       "        text-align: right;\n",
       "    }\n",
       "</style>\n",
       "<table border=\"1\" class=\"dataframe\">\n",
       "  <thead>\n",
       "    <tr style=\"text-align: right;\">\n",
       "      <th></th>\n",
       "      <th>Y_Test</th>\n",
       "      <th>PRED</th>\n",
       "    </tr>\n",
       "  </thead>\n",
       "  <tbody>\n",
       "    <tr>\n",
       "      <th>2571</th>\n",
       "      <td>243</td>\n",
       "      <td>242.37</td>\n",
       "    </tr>\n",
       "    <tr>\n",
       "      <th>2304</th>\n",
       "      <td>339</td>\n",
       "      <td>340.88</td>\n",
       "    </tr>\n",
       "    <tr>\n",
       "      <th>1525</th>\n",
       "      <td>253</td>\n",
       "      <td>253.15</td>\n",
       "    </tr>\n",
       "    <tr>\n",
       "      <th>329</th>\n",
       "      <td>121</td>\n",
       "      <td>119.34</td>\n",
       "    </tr>\n",
       "    <tr>\n",
       "      <th>711</th>\n",
       "      <td>153</td>\n",
       "      <td>156.25</td>\n",
       "    </tr>\n",
       "  </tbody>\n",
       "</table>\n",
       "</div>"
      ],
      "text/plain": [
       "      Y_Test    PRED\n",
       "2571     243  242.37\n",
       "2304     339  340.88\n",
       "1525     253  253.15\n",
       "329      121  119.34\n",
       "711      153  156.25"
      ]
     },
     "execution_count": 668,
     "metadata": {},
     "output_type": "execute_result"
    }
   ],
   "source": [
    "res = pd.DataFrame()\n",
    "res['Y_Test'] = y_test\n",
    "res['PRED'] = pred\n",
    "res.head()"
   ]
  },
  {
   "cell_type": "code",
   "execution_count": null,
   "id": "76eb810b",
   "metadata": {},
   "outputs": [],
   "source": []
  }
 ],
 "metadata": {
  "kernelspec": {
   "display_name": "Python 3",
   "language": "python",
   "name": "python3"
  },
  "language_info": {
   "codemirror_mode": {
    "name": "ipython",
    "version": 3
   },
   "file_extension": ".py",
   "mimetype": "text/x-python",
   "name": "python",
   "nbconvert_exporter": "python",
   "pygments_lexer": "ipython3",
   "version": "3.8.8"
  }
 },
 "nbformat": 4,
 "nbformat_minor": 5
}
