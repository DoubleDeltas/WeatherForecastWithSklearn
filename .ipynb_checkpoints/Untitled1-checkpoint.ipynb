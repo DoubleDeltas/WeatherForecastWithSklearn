{
 "cells": [
  {
   "cell_type": "code",
   "execution_count": 46,
   "id": "ece9664e",
   "metadata": {},
   "outputs": [],
   "source": [
    "import requests\n",
    "import json"
   ]
  },
  {
   "cell_type": "code",
   "execution_count": 62,
   "id": "a9471739",
   "metadata": {},
   "outputs": [],
   "source": [
    "def get_request(code):\n",
    "    down_url = f'https://new.land.naver.com/api/regions/list?cortarNo={code}'\n",
    "    r = requests.get(down_url,data={\"sameAddressGroup\":\"false\"},headers={\n",
    "        \"Accept-Encoding\": \"gzip\",\n",
    "        \"Host\": \"new.land.naver.com\",\n",
    "        \"Referer\": \"https://new.land.naver.com/complexes/102378?ms=37.5018495,127.0438028,16&a=APT&b=A1&e=RETAIL\",\n",
    "        \"Sec-Fetch-Dest\": \"empty\",\n",
    "        \"Sec-Fetch-Mode\": \"cors\",\n",
    "        \"Sec-Fetch-Site\": \"same-origin\",\n",
    "        \"User-Agent\": \"Mozilla/5.0 (Windows NT 10.0; Win64; x64) AppleWebKit/537.36 (KHTML, like Gecko) Chrome/86.0.4240.198 Safari/537.36\"\n",
    "    })\n",
    "    r.encoding = \"utf-8-sig\"\n",
    "    temp = json.loads(r.text)\n",
    "    try:\n",
    "        return [(d['cortarNo'], d['cortarName']) for d in temp['regionList']]\n",
    "    except:\n",
    "        return []"
   ]
  },
  {
   "cell_type": "code",
   "execution_count": 63,
   "id": "c0fc06d6",
   "metadata": {},
   "outputs": [],
   "source": [
    "def interact():\n",
    "    code = '0000000000'\n",
    "    while True:\n",
    "        pairs = get_request(code)\n",
    "        if len(pairs) == 0:\n",
    "            break\n",
    "        print(' 0 - 현재 범위 선택')\n",
    "        for i in range(1, len(pairs)+1):\n",
    "            print('{0:2} - {1:<10} ({2})'.format(i, pairs[i-1][1], pairs[i-1][0]))\n",
    "        inp = int(input('코드를 선택하세요'))\n",
    "        if inp == 0:\n",
    "            break\n",
    "        if inp < 0 or inp > len(pairs):\n",
    "            print('뭔가 잘못됨!')\n",
    "            break\n",
    "        code = pairs[inp - 1][0]"
   ]
  },
  {
   "cell_type": "code",
   "execution_count": 64,
   "id": "1e213efb",
   "metadata": {},
   "outputs": [
    {
     "name": "stdout",
     "output_type": "stream",
     "text": [
      " 0 - 현재 범위 선택\n",
      " 1 - 서울시        (1100000000)\n",
      " 2 - 경기도        (4100000000)\n",
      " 3 - 인천시        (2800000000)\n",
      " 4 - 부산시        (2600000000)\n",
      " 5 - 대전시        (3000000000)\n",
      " 6 - 대구시        (2700000000)\n",
      " 7 - 울산시        (3100000000)\n",
      " 8 - 세종시        (3600000000)\n",
      " 9 - 광주시        (2900000000)\n",
      "10 - 강원도        (4200000000)\n",
      "11 - 충청북도       (4300000000)\n",
      "12 - 충청남도       (4400000000)\n",
      "13 - 경상북도       (4700000000)\n",
      "14 - 경상남도       (4800000000)\n",
      "15 - 전라북도       (4500000000)\n",
      "16 - 전라남도       (4600000000)\n",
      "17 - 제주도        (5000000000)\n",
      "코드를 선택하세요1\n",
      " 0 - 현재 범위 선택\n",
      " 1 - 강남구        (1168000000)\n",
      " 2 - 강동구        (1174000000)\n",
      " 3 - 강북구        (1130500000)\n",
      " 4 - 강서구        (1150000000)\n",
      " 5 - 관악구        (1162000000)\n",
      " 6 - 광진구        (1121500000)\n",
      " 7 - 구로구        (1153000000)\n",
      " 8 - 금천구        (1154500000)\n",
      " 9 - 노원구        (1135000000)\n",
      "10 - 도봉구        (1132000000)\n",
      "11 - 동대문구       (1123000000)\n",
      "12 - 동작구        (1159000000)\n",
      "13 - 마포구        (1144000000)\n",
      "14 - 서대문구       (1141000000)\n",
      "15 - 서초구        (1165000000)\n",
      "16 - 성동구        (1120000000)\n",
      "17 - 성북구        (1129000000)\n",
      "18 - 송파구        (1171000000)\n",
      "19 - 양천구        (1147000000)\n",
      "20 - 영등포구       (1156000000)\n",
      "21 - 용산구        (1117000000)\n",
      "22 - 은평구        (1138000000)\n",
      "23 - 종로구        (1111000000)\n",
      "24 - 중구         (1114000000)\n",
      "25 - 중랑구        (1126000000)\n",
      "코드를 선택하세요1\n",
      " 0 - 현재 범위 선택\n",
      " 1 - 개포동        (1168010300)\n",
      " 2 - 논현동        (1168010800)\n",
      " 3 - 대치동        (1168010600)\n",
      " 4 - 도곡동        (1168011800)\n",
      " 5 - 삼성동        (1168010500)\n",
      " 6 - 세곡동        (1168011100)\n",
      " 7 - 수서동        (1168011500)\n",
      " 8 - 신사동        (1168010700)\n",
      " 9 - 압구정동       (1168011000)\n",
      "10 - 역삼동        (1168010100)\n",
      "11 - 율현동        (1168011300)\n",
      "12 - 일원동        (1168011400)\n",
      "13 - 자곡동        (1168011200)\n",
      "14 - 청담동        (1168010400)\n",
      "코드를 선택하세요1\n"
     ]
    }
   ],
   "source": [
    "interact()"
   ]
  }
 ],
 "metadata": {
  "kernelspec": {
   "display_name": "Python 3",
   "language": "python",
   "name": "python3"
  },
  "language_info": {
   "codemirror_mode": {
    "name": "ipython",
    "version": 3
   },
   "file_extension": ".py",
   "mimetype": "text/x-python",
   "name": "python",
   "nbconvert_exporter": "python",
   "pygments_lexer": "ipython3",
   "version": "3.8.8"
  }
 },
 "nbformat": 4,
 "nbformat_minor": 5
}
